{
 "cells": [
  {
   "cell_type": "code",
   "execution_count": 1,
   "metadata": {},
   "outputs": [],
   "source": [
    "import re"
   ]
  },
  {
   "cell_type": "code",
   "execution_count": 2,
   "metadata": {},
   "outputs": [],
   "source": [
    "para = '''\n",
    "A celebrity is “known for being well-known” (Boorstin, 1961, p. 57), \n",
    "regardless of whether that eminence derives from the entertainment field,\n",
    "medicine, science, politics, religion, sports, or close association with other celebrities.\n",
    "Therefore, “fame” is a psychological concept akin to object-relations theory and is multifaceted \n",
    "in scope. The psychological study of celebrity and fame has generally followed three trends. First,\n",
    "there is an interest in characteristics that distinguish eminent people with significant skills or \n",
    "intelligence from the general population (Albert, 1996; Simonton, 1999). Other studies have addressed\n",
    "how celebrity affects public attitudes such as consumer behaviour (Till & Shimp, 1998; Tripp, Jensen,\n",
    "& Carlson, 1994). Lastly, there are psychological consequences of achieving fame. For instance,\n",
    "Schaller (1997) found that in some instances fame leads to chronic self-consciousness and perhaps \n",
    "self-destructive behaviour. This is an important aspect to the study of fame and celebrity given that\n",
    "other research has linked depressive neurosis to over-identification with social roles and norms,\n",
    "feeling dependent on others, self-esteem problems, and unfulfilled wishes of love and acceptance \n",
    "(Frommer et al., 1995). Indeed, Giles (2000) has described several problems faced by celebrities,\n",
    "including loneliness, making new friendships that are genuine, and the loss of privacy.'''"
   ]
  },
  {
   "cell_type": "code",
   "execution_count": 3,
   "metadata": {},
   "outputs": [
    {
     "data": {
      "text/plain": [
       "'\\nA celebrity is “known for being well-known” (Boorstin, 1961, p. 57), \\nregardless of whether that eminence derives from the entertainment field,\\nmedicine, science, politics, religion, sports, or close association with other celebrities.\\nTherefore, “fame” is a psychological concept akin to object-relations theory and is multifaceted \\nin scope. The psychological study of celebrity and fame has generally followed three trends. First,\\nthere is an interest in characteristics that distinguish eminent people with significant skills or \\nintelligence from the general population (Albert, 1996; Simonton, 1999). Other studies have addressed\\nhow celebrity affects public attitudes such as consumer behaviour (Till & Shimp, 1998; Tripp, Jensen,\\n& Carlson, 1994). Lastly, there are psychological consequences of achieving fame. For instance,\\nSchaller (1997) found that in some instances fame leads to chronic self-consciousness and perhaps \\nself-destructive behaviour. This is an important aspect to the study of fame and celebrity given that\\nother research has linked depressive neurosis to over-identification with social roles and norms,\\nfeeling dependent on others, self-esteem problems, and unfulfilled wishes of love and acceptance \\n(Frommer et al., 1995). Indeed, Giles (2000) has described several problems faced by celebrities,\\nincluding loneliness, making new friendships that are genuine, and the loss of privacy.'"
      ]
     },
     "execution_count": 3,
     "metadata": {},
     "output_type": "execute_result"
    }
   ],
   "source": [
    "para"
   ]
  },
  {
   "cell_type": "code",
   "execution_count": 10,
   "metadata": {},
   "outputs": [
    {
     "name": "stdout",
     "output_type": "stream",
     "text": [
      "<re.Match object; span=(56, 60), match='1961'>\n",
      "<re.Match object; span=(65, 67), match='57'>\n",
      "<re.Match object; span=(585, 589), match='1996'>\n",
      "<re.Match object; span=(601, 605), match='1999'>\n",
      "<re.Match object; span=(718, 722), match='1998'>\n",
      "<re.Match object; span=(750, 754), match='1994'>\n",
      "<re.Match object; span=(845, 849), match='1997'>\n",
      "<re.Match object; span=(1249, 1253), match='1995'>\n",
      "<re.Match object; span=(1271, 1275), match='2000'>\n"
     ]
    }
   ],
   "source": [
    "# check if string has digit\n",
    "# pat = re.compile(\"[\\d]\")\n",
    "\n",
    "pat = re.compile(\"[\\d]+\")\n",
    "\n",
    "mat = pat.finditer(para)\n",
    "\n",
    "for i in mat:\n",
    "    print(i)\n",
    "\n",
    "\n",
    "\n",
    "\n",
    "\n",
    "\n",
    "\n",
    "\n"
   ]
  },
  {
   "cell_type": "code",
   "execution_count": 11,
   "metadata": {},
   "outputs": [
    {
     "name": "stdout",
     "output_type": "stream",
     "text": [
      "<re.Match object; span=(0, 56), match='\\nA celebrity is “known for being well-known” (Bo>\n",
      "<re.Match object; span=(60, 65), match=', p. '>\n",
      "<re.Match object; span=(67, 585), match='), \\nregardless of whether that eminence derives >\n",
      "<re.Match object; span=(589, 601), match='; Simonton, '>\n",
      "<re.Match object; span=(605, 718), match='). Other studies have addressed\\nhow celebrity af>\n",
      "<re.Match object; span=(722, 750), match='; Tripp, Jensen,\\n& Carlson, '>\n",
      "<re.Match object; span=(754, 845), match='). Lastly, there are psychological consequences o>\n",
      "<re.Match object; span=(849, 1249), match=') found that in some instances fame leads to chro>\n",
      "<re.Match object; span=(1253, 1271), match='). Indeed, Giles ('>\n",
      "<re.Match object; span=(1275, 1417), match=') has described several problems faced by celebri>\n"
     ]
    }
   ],
   "source": [
    "# check if string does not has digit\n",
    "pat = re.compile(\"[\\D]\")\n",
    "pat = re.compile(\"[\\D]+\")\n",
    "mat = pat.finditer(para)\n",
    "for i in mat:\n",
    "    print(i)\n"
   ]
  },
  {
   "cell_type": "code",
   "execution_count": 12,
   "metadata": {},
   "outputs": [
    {
     "data": {
      "text/plain": [
       "'), \\nregardless of whether that eminence derives from the entertainment field,\\nmedicine, science, politics, religion, sports, or close association with other celebrities.\\nTherefore, “fame” is a psychological concept akin to object-relations theory and is multifaceted \\nin scope. The psychological study of celebrity and fame has generally followed three trends. First,\\nthere is an interest in characteristics that distinguish eminent people with significant skills or \\nintelligence from the general population (Albert, '"
      ]
     },
     "execution_count": 12,
     "metadata": {},
     "output_type": "execute_result"
    }
   ],
   "source": [
    "para[67:585]"
   ]
  },
  {
   "cell_type": "code",
   "execution_count": 14,
   "metadata": {},
   "outputs": [
    {
     "name": "stdout",
     "output_type": "stream",
     "text": [
      "\\n\n"
     ]
    }
   ],
   "source": [
    "print(r\"\\n\")"
   ]
  },
  {
   "cell_type": "code",
   "execution_count": 18,
   "metadata": {},
   "outputs": [],
   "source": [
    "for i in range(0):\n",
    "    print(i)"
   ]
  },
  {
   "cell_type": "code",
   "execution_count": 31,
   "metadata": {
    "scrolled": true
   },
   "outputs": [
    {
     "name": "stdout",
     "output_type": "stream",
     "text": [
      "None\n"
     ]
    }
   ],
   "source": [
    "# check if string is start from specific word/letter \n",
    "pat = r\"\\AA celebrity\"\n",
    "mat = re.search(pat,para)\n",
    "print(mat)"
   ]
  },
  {
   "cell_type": "code",
   "execution_count": 35,
   "metadata": {},
   "outputs": [
    {
     "name": "stdout",
     "output_type": "stream",
     "text": [
      "<re.Match object; span=(1263, 1269), match=' Giles'>\n"
     ]
    }
   ],
   "source": [
    "# check if string has specific word/letter \n",
    "pat = re.compile(\"\\B Giles\")\n",
    "mat = pat.finditer(para)\n",
    "for i in mat:\n",
    "    print(i)"
   ]
  },
  {
   "cell_type": "code",
   "execution_count": 36,
   "metadata": {},
   "outputs": [
    {
     "name": "stdout",
     "output_type": "stream",
     "text": [
      "<re.Match object; span=(1, 2), match='A'>\n",
      "<re.Match object; span=(3, 12), match='celebrity'>\n",
      "<re.Match object; span=(13, 15), match='is'>\n",
      "<re.Match object; span=(17, 22), match='known'>\n",
      "<re.Match object; span=(23, 26), match='for'>\n",
      "<re.Match object; span=(27, 32), match='being'>\n",
      "<re.Match object; span=(33, 37), match='well'>\n",
      "<re.Match object; span=(38, 43), match='known'>\n",
      "<re.Match object; span=(46, 54), match='Boorstin'>\n",
      "<re.Match object; span=(56, 60), match='1961'>\n",
      "<re.Match object; span=(62, 63), match='p'>\n",
      "<re.Match object; span=(65, 67), match='57'>\n",
      "<re.Match object; span=(71, 81), match='regardless'>\n",
      "<re.Match object; span=(82, 84), match='of'>\n",
      "<re.Match object; span=(85, 92), match='whether'>\n",
      "<re.Match object; span=(93, 97), match='that'>\n",
      "<re.Match object; span=(98, 106), match='eminence'>\n",
      "<re.Match object; span=(107, 114), match='derives'>\n",
      "<re.Match object; span=(115, 119), match='from'>\n",
      "<re.Match object; span=(120, 123), match='the'>\n",
      "<re.Match object; span=(124, 137), match='entertainment'>\n",
      "<re.Match object; span=(138, 143), match='field'>\n",
      "<re.Match object; span=(145, 153), match='medicine'>\n",
      "<re.Match object; span=(155, 162), match='science'>\n",
      "<re.Match object; span=(164, 172), match='politics'>\n",
      "<re.Match object; span=(174, 182), match='religion'>\n",
      "<re.Match object; span=(184, 190), match='sports'>\n",
      "<re.Match object; span=(192, 194), match='or'>\n",
      "<re.Match object; span=(195, 200), match='close'>\n",
      "<re.Match object; span=(201, 212), match='association'>\n",
      "<re.Match object; span=(213, 217), match='with'>\n",
      "<re.Match object; span=(218, 223), match='other'>\n",
      "<re.Match object; span=(224, 235), match='celebrities'>\n",
      "<re.Match object; span=(237, 246), match='Therefore'>\n",
      "<re.Match object; span=(249, 253), match='fame'>\n",
      "<re.Match object; span=(255, 257), match='is'>\n",
      "<re.Match object; span=(258, 259), match='a'>\n",
      "<re.Match object; span=(260, 273), match='psychological'>\n",
      "<re.Match object; span=(274, 281), match='concept'>\n",
      "<re.Match object; span=(282, 286), match='akin'>\n",
      "<re.Match object; span=(287, 289), match='to'>\n",
      "<re.Match object; span=(290, 296), match='object'>\n",
      "<re.Match object; span=(297, 306), match='relations'>\n",
      "<re.Match object; span=(307, 313), match='theory'>\n",
      "<re.Match object; span=(314, 317), match='and'>\n",
      "<re.Match object; span=(318, 320), match='is'>\n",
      "<re.Match object; span=(321, 333), match='multifaceted'>\n",
      "<re.Match object; span=(335, 337), match='in'>\n",
      "<re.Match object; span=(338, 343), match='scope'>\n",
      "<re.Match object; span=(345, 348), match='The'>\n",
      "<re.Match object; span=(349, 362), match='psychological'>\n",
      "<re.Match object; span=(363, 368), match='study'>\n",
      "<re.Match object; span=(369, 371), match='of'>\n",
      "<re.Match object; span=(372, 381), match='celebrity'>\n",
      "<re.Match object; span=(382, 385), match='and'>\n",
      "<re.Match object; span=(386, 390), match='fame'>\n",
      "<re.Match object; span=(391, 394), match='has'>\n",
      "<re.Match object; span=(395, 404), match='generally'>\n",
      "<re.Match object; span=(405, 413), match='followed'>\n",
      "<re.Match object; span=(414, 419), match='three'>\n",
      "<re.Match object; span=(420, 426), match='trends'>\n",
      "<re.Match object; span=(428, 433), match='First'>\n",
      "<re.Match object; span=(435, 440), match='there'>\n",
      "<re.Match object; span=(441, 443), match='is'>\n",
      "<re.Match object; span=(444, 446), match='an'>\n",
      "<re.Match object; span=(447, 455), match='interest'>\n",
      "<re.Match object; span=(456, 458), match='in'>\n",
      "<re.Match object; span=(459, 474), match='characteristics'>\n",
      "<re.Match object; span=(475, 479), match='that'>\n",
      "<re.Match object; span=(480, 491), match='distinguish'>\n",
      "<re.Match object; span=(492, 499), match='eminent'>\n",
      "<re.Match object; span=(500, 506), match='people'>\n",
      "<re.Match object; span=(507, 511), match='with'>\n",
      "<re.Match object; span=(512, 523), match='significant'>\n",
      "<re.Match object; span=(524, 530), match='skills'>\n",
      "<re.Match object; span=(531, 533), match='or'>\n",
      "<re.Match object; span=(535, 547), match='intelligence'>\n",
      "<re.Match object; span=(548, 552), match='from'>\n",
      "<re.Match object; span=(553, 556), match='the'>\n",
      "<re.Match object; span=(557, 564), match='general'>\n",
      "<re.Match object; span=(565, 575), match='population'>\n",
      "<re.Match object; span=(577, 583), match='Albert'>\n",
      "<re.Match object; span=(585, 589), match='1996'>\n",
      "<re.Match object; span=(591, 599), match='Simonton'>\n",
      "<re.Match object; span=(601, 605), match='1999'>\n",
      "<re.Match object; span=(608, 613), match='Other'>\n",
      "<re.Match object; span=(614, 621), match='studies'>\n",
      "<re.Match object; span=(622, 626), match='have'>\n",
      "<re.Match object; span=(627, 636), match='addressed'>\n",
      "<re.Match object; span=(637, 640), match='how'>\n",
      "<re.Match object; span=(641, 650), match='celebrity'>\n",
      "<re.Match object; span=(651, 658), match='affects'>\n",
      "<re.Match object; span=(659, 665), match='public'>\n",
      "<re.Match object; span=(666, 675), match='attitudes'>\n",
      "<re.Match object; span=(676, 680), match='such'>\n",
      "<re.Match object; span=(681, 683), match='as'>\n",
      "<re.Match object; span=(684, 692), match='consumer'>\n",
      "<re.Match object; span=(693, 702), match='behaviour'>\n",
      "<re.Match object; span=(704, 708), match='Till'>\n",
      "<re.Match object; span=(711, 716), match='Shimp'>\n",
      "<re.Match object; span=(718, 722), match='1998'>\n",
      "<re.Match object; span=(724, 729), match='Tripp'>\n",
      "<re.Match object; span=(731, 737), match='Jensen'>\n",
      "<re.Match object; span=(741, 748), match='Carlson'>\n",
      "<re.Match object; span=(750, 754), match='1994'>\n",
      "<re.Match object; span=(757, 763), match='Lastly'>\n",
      "<re.Match object; span=(765, 770), match='there'>\n",
      "<re.Match object; span=(771, 774), match='are'>\n",
      "<re.Match object; span=(775, 788), match='psychological'>\n",
      "<re.Match object; span=(789, 801), match='consequences'>\n",
      "<re.Match object; span=(802, 804), match='of'>\n",
      "<re.Match object; span=(805, 814), match='achieving'>\n",
      "<re.Match object; span=(815, 819), match='fame'>\n",
      "<re.Match object; span=(821, 824), match='For'>\n",
      "<re.Match object; span=(825, 833), match='instance'>\n",
      "<re.Match object; span=(835, 843), match='Schaller'>\n",
      "<re.Match object; span=(845, 849), match='1997'>\n",
      "<re.Match object; span=(851, 856), match='found'>\n",
      "<re.Match object; span=(857, 861), match='that'>\n",
      "<re.Match object; span=(862, 864), match='in'>\n",
      "<re.Match object; span=(865, 869), match='some'>\n",
      "<re.Match object; span=(870, 879), match='instances'>\n",
      "<re.Match object; span=(880, 884), match='fame'>\n",
      "<re.Match object; span=(885, 890), match='leads'>\n",
      "<re.Match object; span=(891, 893), match='to'>\n",
      "<re.Match object; span=(894, 901), match='chronic'>\n",
      "<re.Match object; span=(902, 906), match='self'>\n",
      "<re.Match object; span=(907, 920), match='consciousness'>\n",
      "<re.Match object; span=(921, 924), match='and'>\n",
      "<re.Match object; span=(925, 932), match='perhaps'>\n",
      "<re.Match object; span=(934, 938), match='self'>\n",
      "<re.Match object; span=(939, 950), match='destructive'>\n",
      "<re.Match object; span=(951, 960), match='behaviour'>\n",
      "<re.Match object; span=(962, 966), match='This'>\n",
      "<re.Match object; span=(967, 969), match='is'>\n",
      "<re.Match object; span=(970, 972), match='an'>\n",
      "<re.Match object; span=(973, 982), match='important'>\n",
      "<re.Match object; span=(983, 989), match='aspect'>\n",
      "<re.Match object; span=(990, 992), match='to'>\n",
      "<re.Match object; span=(993, 996), match='the'>\n",
      "<re.Match object; span=(997, 1002), match='study'>\n",
      "<re.Match object; span=(1003, 1005), match='of'>\n",
      "<re.Match object; span=(1006, 1010), match='fame'>\n",
      "<re.Match object; span=(1011, 1014), match='and'>\n",
      "<re.Match object; span=(1015, 1024), match='celebrity'>\n",
      "<re.Match object; span=(1025, 1030), match='given'>\n",
      "<re.Match object; span=(1031, 1035), match='that'>\n",
      "<re.Match object; span=(1036, 1041), match='other'>\n",
      "<re.Match object; span=(1042, 1050), match='research'>\n",
      "<re.Match object; span=(1051, 1054), match='has'>\n",
      "<re.Match object; span=(1055, 1061), match='linked'>\n",
      "<re.Match object; span=(1062, 1072), match='depressive'>\n",
      "<re.Match object; span=(1073, 1081), match='neurosis'>\n",
      "<re.Match object; span=(1082, 1084), match='to'>\n",
      "<re.Match object; span=(1085, 1089), match='over'>\n",
      "<re.Match object; span=(1090, 1104), match='identification'>\n",
      "<re.Match object; span=(1105, 1109), match='with'>\n",
      "<re.Match object; span=(1110, 1116), match='social'>\n",
      "<re.Match object; span=(1117, 1122), match='roles'>\n",
      "<re.Match object; span=(1123, 1126), match='and'>\n",
      "<re.Match object; span=(1127, 1132), match='norms'>\n",
      "<re.Match object; span=(1134, 1141), match='feeling'>\n",
      "<re.Match object; span=(1142, 1151), match='dependent'>\n",
      "<re.Match object; span=(1152, 1154), match='on'>\n",
      "<re.Match object; span=(1155, 1161), match='others'>\n",
      "<re.Match object; span=(1163, 1167), match='self'>\n",
      "<re.Match object; span=(1168, 1174), match='esteem'>\n",
      "<re.Match object; span=(1175, 1183), match='problems'>\n",
      "<re.Match object; span=(1185, 1188), match='and'>\n",
      "<re.Match object; span=(1189, 1200), match='unfulfilled'>\n",
      "<re.Match object; span=(1201, 1207), match='wishes'>\n",
      "<re.Match object; span=(1208, 1210), match='of'>\n",
      "<re.Match object; span=(1211, 1215), match='love'>\n",
      "<re.Match object; span=(1216, 1219), match='and'>\n",
      "<re.Match object; span=(1220, 1230), match='acceptance'>\n",
      "<re.Match object; span=(1233, 1240), match='Frommer'>\n",
      "<re.Match object; span=(1241, 1243), match='et'>\n",
      "<re.Match object; span=(1244, 1246), match='al'>\n",
      "<re.Match object; span=(1249, 1253), match='1995'>\n",
      "<re.Match object; span=(1256, 1262), match='Indeed'>\n",
      "<re.Match object; span=(1264, 1269), match='Giles'>\n",
      "<re.Match object; span=(1271, 1275), match='2000'>\n",
      "<re.Match object; span=(1277, 1280), match='has'>\n",
      "<re.Match object; span=(1281, 1290), match='described'>\n",
      "<re.Match object; span=(1291, 1298), match='several'>\n",
      "<re.Match object; span=(1299, 1307), match='problems'>\n",
      "<re.Match object; span=(1308, 1313), match='faced'>\n",
      "<re.Match object; span=(1314, 1316), match='by'>\n",
      "<re.Match object; span=(1317, 1328), match='celebrities'>\n",
      "<re.Match object; span=(1330, 1339), match='including'>\n",
      "<re.Match object; span=(1340, 1350), match='loneliness'>\n",
      "<re.Match object; span=(1352, 1358), match='making'>\n",
      "<re.Match object; span=(1359, 1362), match='new'>\n",
      "<re.Match object; span=(1363, 1374), match='friendships'>\n",
      "<re.Match object; span=(1375, 1379), match='that'>\n",
      "<re.Match object; span=(1380, 1383), match='are'>\n",
      "<re.Match object; span=(1384, 1391), match='genuine'>\n",
      "<re.Match object; span=(1393, 1396), match='and'>\n",
      "<re.Match object; span=(1397, 1400), match='the'>\n",
      "<re.Match object; span=(1401, 1405), match='loss'>\n",
      "<re.Match object; span=(1406, 1408), match='of'>\n",
      "<re.Match object; span=(1409, 1416), match='privacy'>\n"
     ]
    }
   ],
   "source": [
    "# check if string has a-z A-Z 0-9 _\n",
    "pat = re.compile(\"[\\w]+\")\n",
    "mat = pat.finditer(para)\n",
    "for i in mat:\n",
    "    print(i)"
   ]
  },
  {
   "cell_type": "code",
   "execution_count": null,
   "metadata": {},
   "outputs": [],
   "source": []
  },
  {
   "cell_type": "code",
   "execution_count": null,
   "metadata": {},
   "outputs": [],
   "source": []
  }
 ],
 "metadata": {
  "kernelspec": {
   "display_name": "Python 3",
   "language": "python",
   "name": "python3"
  },
  "language_info": {
   "codemirror_mode": {
    "name": "ipython",
    "version": 3
   },
   "file_extension": ".py",
   "mimetype": "text/x-python",
   "name": "python",
   "nbconvert_exporter": "python",
   "pygments_lexer": "ipython3",
   "version": "3.7.4"
  }
 },
 "nbformat": 4,
 "nbformat_minor": 2
}
