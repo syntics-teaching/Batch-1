{
 "cells": [
  {
   "cell_type": "code",
   "execution_count": null,
   "metadata": {},
   "outputs": [],
   "source": [
    "import re"
   ]
  },
  {
   "cell_type": "code",
   "execution_count": null,
   "metadata": {},
   "outputs": [],
   "source": [
    "x = \"Open Gmail. Go to https://www.google.com in any web browser on your computer. arabic@hotmail.com This will open your Gmail inbox if you're logged into your Gmail account.If you aren't logged into Gmail, enter your email address and password when prompted before proceeding.\""
   ]
  },
  {
   "cell_type": "code",
   "execution_count": null,
   "metadata": {},
   "outputs": [],
   "source": [
    "x"
   ]
  },
  {
   "cell_type": "code",
   "execution_count": null,
   "metadata": {},
   "outputs": [],
   "source": [
    "# finding url\n",
    "pat_link = re.compile(r\"[a-z]+[:]?//?[a-z]+[\\.][a-z]+[\\.][a-z]+\")\n",
    "matches = pat_link.finditer(x)\n",
    "for i in matches:\n",
    "    print(i)\n"
   ]
  },
  {
   "cell_type": "code",
   "execution_count": null,
   "metadata": {},
   "outputs": [],
   "source": [
    "# finding email\n",
    "pat_email = \"[a-zA-z0-9_\\.\\-]+[@][a-z]+[\\.][a-z]+\"\n",
    "re.search(pat_email,x)\n",
    "x[78:96]"
   ]
  },
  {
   "cell_type": "code",
   "execution_count": null,
   "metadata": {},
   "outputs": [],
   "source": []
  },
  {
   "cell_type": "code",
   "execution_count": null,
   "metadata": {},
   "outputs": [],
   "source": [
    "y = '''No internet Try:Checking the network cables. modem, and router Reconnecting to Wi-Fi Running Windows Network Diagnostics ERR_INTERNET_DISCONNECTED\n",
    "'''"
   ]
  },
  {
   "cell_type": "code",
   "execution_count": null,
   "metadata": {},
   "outputs": [],
   "source": [
    "y"
   ]
  },
  {
   "cell_type": "code",
   "execution_count": null,
   "metadata": {},
   "outputs": [],
   "source": [
    "# split string on desir\n",
    "split_pat = r\":\"\n",
    "re.split(split_pat,y)"
   ]
  },
  {
   "cell_type": "code",
   "execution_count": null,
   "metadata": {},
   "outputs": [],
   "source": [
    "# want desired line \n",
    "cus_pat = re.compile(\"[a-z A-Z]+[:]?[a-z A-Z]+[.]?\")\n",
    "matches = re.search(cus_pat,y)\n",
    "print(matches)\n",
    "y[0:44]"
   ]
  }
 ],
 "metadata": {
  "kernelspec": {
   "display_name": "Python 3",
   "language": "python",
   "name": "python3"
  },
  "language_info": {
   "codemirror_mode": {
    "name": "ipython",
    "version": 3
   },
   "file_extension": ".py",
   "mimetype": "text/x-python",
   "name": "python",
   "nbconvert_exporter": "python",
   "pygments_lexer": "ipython3",
   "version": "3.7.4"
  }
 },
 "nbformat": 4,
 "nbformat_minor": 2
}
