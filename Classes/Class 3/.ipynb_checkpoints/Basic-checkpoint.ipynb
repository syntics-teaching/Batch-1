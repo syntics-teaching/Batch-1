{
 "cells": [
  {
   "cell_type": "code",
   "execution_count": null,
   "metadata": {},
   "outputs": [],
   "source": [
    "import re"
   ]
  },
  {
   "cell_type": "code",
   "execution_count": null,
   "metadata": {},
   "outputs": [],
   "source": [
    "para = \"A celebrity is “known for being well-known” (Boorstin, 1961, p. 57), regardless of whether that eminence derives from the entertainment field, medicine, science, politics, religion, sports, or close association with other celebrities. Therefore, “fame” is a psychological concept akin to object-relations theory and is multifaceted in scope. The psychological study of celebrity and fame has generally followed three trends. First, there is an interest in characteristics that distinguish eminent people with significant skills or intelligence from the general population (Albert, 1996; Simonton, 1999). Other studies have addressed how celebrity affects public attitudes such as consumer behaviour (Till & Shimp, 1998; Tripp, Jensen, & Carlson, 1994). Lastly, there are psychological consequences of achieving fame. For instance, Schaller (1997) found that in some instances fame leads to chronic self-consciousness and perhaps self-destructive behaviour. This is an important aspect to the study of fame and celebrity given that other research has linked depressive neurosis to over-identification with social roles and norms, feeling dependent on others, self-esteem problems, and unfulfilled wishes of love and acceptance (Frommer et al., 1995). Indeed, Giles (2000) has described several problems faced by celebrities, including loneliness, making new friendships that are genuine, and the loss of privacy.\""
   ]
  },
  {
   "cell_type": "code",
   "execution_count": null,
   "metadata": {},
   "outputs": [],
   "source": [
    "para"
   ]
  },
  {
   "cell_type": "code",
   "execution_count": null,
   "metadata": {},
   "outputs": [],
   "source": [
    "# check if string has digit\n",
    "pat = re.compile(\"[\\d]\")\n",
    "pat = re.compile(\"[\\d]+\")\n",
    "mat = pat.finditer(para)\n",
    "for i in mat:\n",
    "    print(i)\n",
    "\n"
   ]
  },
  {
   "cell_type": "code",
   "execution_count": null,
   "metadata": {},
   "outputs": [],
   "source": [
    "# check if string does not has digit\n",
    "pat = re.compile(\"[\\D]\")\n",
    "pat = re.compile(\"[\\D]+\")\n",
    "mat = pat.finditer(para)\n",
    "for i in mat:\n",
    "    print(i)\n"
   ]
  },
  {
   "cell_type": "code",
   "execution_count": null,
   "metadata": {},
   "outputs": [],
   "source": [
    "# check if string is start from specific word/letter \n",
    "pat = r\"\\AA celebrity\"\n",
    "mat = re.finditer(pat,para)\n",
    "for i in mat:\n",
    "    print(i)"
   ]
  },
  {
   "cell_type": "code",
   "execution_count": null,
   "metadata": {},
   "outputs": [],
   "source": [
    "# check if string has specific word/letter \n",
    "pat = re.compile(\"\\B Giles\")\n",
    "mat = pat.finditer(para)\n",
    "for i in mat:\n",
    "    print(i)"
   ]
  },
  {
   "cell_type": "code",
   "execution_count": null,
   "metadata": {},
   "outputs": [],
   "source": [
    "# check if string has a-z A-Z 0-9 _\n",
    "pat = re.compile(\"[\\w]+\")\n",
    "mat = pat.finditer(para)\n",
    "for i in mat:\n",
    "    print(i)"
   ]
  },
  {
   "cell_type": "code",
   "execution_count": null,
   "metadata": {},
   "outputs": [],
   "source": []
  },
  {
   "cell_type": "code",
   "execution_count": null,
   "metadata": {},
   "outputs": [],
   "source": []
  }
 ],
 "metadata": {
  "kernelspec": {
   "display_name": "Python 3",
   "language": "python",
   "name": "python3"
  },
  "language_info": {
   "codemirror_mode": {
    "name": "ipython",
    "version": 3
   },
   "file_extension": ".py",
   "mimetype": "text/x-python",
   "name": "python",
   "nbconvert_exporter": "python",
   "pygments_lexer": "ipython3",
   "version": "3.7.4"
  }
 },
 "nbformat": 4,
 "nbformat_minor": 2
}
