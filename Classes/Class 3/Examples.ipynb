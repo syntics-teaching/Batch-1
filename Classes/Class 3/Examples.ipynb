{
 "cells": [
  {
   "cell_type": "code",
   "execution_count": 1,
   "metadata": {},
   "outputs": [],
   "source": [
    "import re"
   ]
  },
  {
   "cell_type": "code",
   "execution_count": 2,
   "metadata": {},
   "outputs": [],
   "source": [
    "x = \"Open Gmail. Go to https://www.google.com in any web browser on your computer. arabic@hotmail.com This will open your Gmail inbox if you're logged into your Gmail account.If you aren't logged into Gmail, enter your email address and password when prompted before proceeding.\""
   ]
  },
  {
   "cell_type": "code",
   "execution_count": 3,
   "metadata": {},
   "outputs": [
    {
     "data": {
      "text/plain": [
       "\"Open Gmail. Go to https://www.google.com in any web browser on your computer. arabic@hotmail.com This will open your Gmail inbox if you're logged into your Gmail account.If you aren't logged into Gmail, enter your email address and password when prompted before proceeding.\""
      ]
     },
     "execution_count": 3,
     "metadata": {},
     "output_type": "execute_result"
    }
   ],
   "source": [
    "x"
   ]
  },
  {
   "cell_type": "code",
   "execution_count": 4,
   "metadata": {},
   "outputs": [
    {
     "name": "stdout",
     "output_type": "stream",
     "text": [
      "<re.Match object; span=(18, 40), match='https://www.google.com'>\n"
     ]
    }
   ],
   "source": [
    "# finding url\n",
    "pat_link = re.compile(r\"[a-z]+[:]?//?[a-z]+[\\.][a-z]+[\\.][a-z]+\")\n",
    "matches = pat_link.finditer(x)\n",
    "for i in matches:\n",
    "    print(i)\n"
   ]
  },
  {
   "cell_type": "code",
   "execution_count": 7,
   "metadata": {},
   "outputs": [
    {
     "data": {
      "text/plain": [
       "'arabic@hotmail.com'"
      ]
     },
     "execution_count": 7,
     "metadata": {},
     "output_type": "execute_result"
    }
   ],
   "source": [
    "# finding email\n",
    "pat_email = \"[\\w\\.\\-]+[@][a-z]+[\\.][a-z]+\"\n",
    "re.search(pat_email,x)\n",
    "x[78:96]"
   ]
  },
  {
   "cell_type": "code",
   "execution_count": null,
   "metadata": {},
   "outputs": [],
   "source": []
  },
  {
   "cell_type": "code",
   "execution_count": 8,
   "metadata": {},
   "outputs": [],
   "source": [
    "y = '''No internet Try:Checking the network cables. modem, and router Reconnecting to Wi-Fi Running Windows Network Diagnostics ERR_INTERNET_DISCONNECTED\n",
    "'''"
   ]
  },
  {
   "cell_type": "code",
   "execution_count": 9,
   "metadata": {},
   "outputs": [
    {
     "data": {
      "text/plain": [
       "'No internet Try:Checking the network cables. modem, and router Reconnecting to Wi-Fi Running Windows Network Diagnostics ERR_INTERNET_DISCONNECTED\\n'"
      ]
     },
     "execution_count": 9,
     "metadata": {},
     "output_type": "execute_result"
    }
   ],
   "source": [
    "y"
   ]
  },
  {
   "cell_type": "code",
   "execution_count": 10,
   "metadata": {},
   "outputs": [
    {
     "data": {
      "text/plain": [
       "['No internet Try',\n",
       " 'Checking the network cables. modem, and router Reconnecting to Wi-Fi Running Windows Network Diagnostics ERR_INTERNET_DISCONNECTED\\n']"
      ]
     },
     "execution_count": 10,
     "metadata": {},
     "output_type": "execute_result"
    }
   ],
   "source": [
    "# split string on desir\n",
    "split_pat = r\":\"\n",
    "re.split(split_pat,y)"
   ]
  },
  {
   "cell_type": "code",
   "execution_count": 11,
   "metadata": {},
   "outputs": [
    {
     "name": "stdout",
     "output_type": "stream",
     "text": [
      "<re.Match object; span=(0, 44), match='No internet Try:Checking the network cables.'>\n"
     ]
    },
    {
     "data": {
      "text/plain": [
       "'No internet Try:Checking the network cables.'"
      ]
     },
     "execution_count": 11,
     "metadata": {},
     "output_type": "execute_result"
    }
   ],
   "source": [
    "# want desired line \n",
    "cus_pat = re.compile(\"[a-z A-Z]+[:]?[a-z A-Z]+[.]?\")\n",
    "matches = re.search(cus_pat,y)\n",
    "print(matches)\n",
    "y[0:44]"
   ]
  },
  {
   "cell_type": "code",
   "execution_count": 12,
   "metadata": {},
   "outputs": [
    {
     "data": {
      "text/plain": [
       "'No internet Try:Checking the network cables. modem, and router Reconnecting to Wi-Fi Running Windows Network Diagnostics ERR_INTERNET_DISCONNECTED\\n'"
      ]
     },
     "execution_count": 12,
     "metadata": {},
     "output_type": "execute_result"
    }
   ],
   "source": [
    "y"
   ]
  },
  {
   "cell_type": "code",
   "execution_count": 20,
   "metadata": {},
   "outputs": [
    {
     "data": {
      "text/plain": [
       "'No internet Try:Checking the network cables'"
      ]
     },
     "execution_count": 20,
     "metadata": {},
     "output_type": "execute_result"
    }
   ],
   "source": [
    "y.split(\".\")[0]"
   ]
  },
  {
   "cell_type": "code",
   "execution_count": null,
   "metadata": {},
   "outputs": [],
   "source": []
  }
 ],
 "metadata": {
  "kernelspec": {
   "display_name": "Python 3",
   "language": "python",
   "name": "python3"
  },
  "language_info": {
   "codemirror_mode": {
    "name": "ipython",
    "version": 3
   },
   "file_extension": ".py",
   "mimetype": "text/x-python",
   "name": "python",
   "nbconvert_exporter": "python",
   "pygments_lexer": "ipython3",
   "version": "3.7.4"
  }
 },
 "nbformat": 4,
 "nbformat_minor": 2
}
